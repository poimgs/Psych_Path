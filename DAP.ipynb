{
 "cells": [
  {
   "cell_type": "code",
   "execution_count": 73,
   "metadata": {},
   "outputs": [],
   "source": [
    "import pandas as pd"
   ]
  },
  {
   "cell_type": "code",
   "execution_count": 158,
   "metadata": {},
   "outputs": [],
   "source": [
    "# reading data in csv file using pandasb\n",
    "df = pd.read_csv('filtered_tweets.csv')"
   ]
  },
  {
   "cell_type": "code",
   "execution_count": 61,
   "metadata": {},
   "outputs": [
    {
     "data": {
      "text/html": [
       "<div>\n",
       "<style scoped>\n",
       "    .dataframe tbody tr th:only-of-type {\n",
       "        vertical-align: middle;\n",
       "    }\n",
       "\n",
       "    .dataframe tbody tr th {\n",
       "        vertical-align: top;\n",
       "    }\n",
       "\n",
       "    .dataframe thead th {\n",
       "        text-align: right;\n",
       "    }\n",
       "</style>\n",
       "<table border=\"1\" class=\"dataframe\">\n",
       "  <thead>\n",
       "    <tr style=\"text-align: right;\">\n",
       "      <th></th>\n",
       "      <th>target</th>\n",
       "      <th>id</th>\n",
       "      <th>date</th>\n",
       "      <th>flag</th>\n",
       "      <th>user</th>\n",
       "      <th>text</th>\n",
       "    </tr>\n",
       "  </thead>\n",
       "  <tbody>\n",
       "    <tr>\n",
       "      <th>0</th>\n",
       "      <td>0</td>\n",
       "      <td>1467811193</td>\n",
       "      <td>Mon Apr 06 22:19:57 PDT 2009</td>\n",
       "      <td>NO_QUERY</td>\n",
       "      <td>Karoli</td>\n",
       "      <td>@nationwideclass no, it's not behaving at all....</td>\n",
       "    </tr>\n",
       "    <tr>\n",
       "      <th>1</th>\n",
       "      <td>0</td>\n",
       "      <td>1467811594</td>\n",
       "      <td>Mon Apr 06 22:20:03 PDT 2009</td>\n",
       "      <td>NO_QUERY</td>\n",
       "      <td>coZZ</td>\n",
       "      <td>@LOLTrish hey  long time no see! Yes.. Rains a...</td>\n",
       "    </tr>\n",
       "    <tr>\n",
       "      <th>2</th>\n",
       "      <td>0</td>\n",
       "      <td>1467813579</td>\n",
       "      <td>Mon Apr 06 22:20:31 PDT 2009</td>\n",
       "      <td>NO_QUERY</td>\n",
       "      <td>starkissed</td>\n",
       "      <td>@LettyA ahh ive always wanted to see rent  lov...</td>\n",
       "    </tr>\n",
       "    <tr>\n",
       "      <th>3</th>\n",
       "      <td>0</td>\n",
       "      <td>1467818603</td>\n",
       "      <td>Mon Apr 06 22:21:49 PDT 2009</td>\n",
       "      <td>NO_QUERY</td>\n",
       "      <td>kennypham</td>\n",
       "      <td>Sad, sad, sad. I don't know why but I hate thi...</td>\n",
       "    </tr>\n",
       "    <tr>\n",
       "      <th>4</th>\n",
       "      <td>0</td>\n",
       "      <td>1467819650</td>\n",
       "      <td>Mon Apr 06 22:22:05 PDT 2009</td>\n",
       "      <td>NO_QUERY</td>\n",
       "      <td>antzpantz</td>\n",
       "      <td>@Viennah Yay! I'm happy for you with your job!...</td>\n",
       "    </tr>\n",
       "  </tbody>\n",
       "</table>\n",
       "</div>"
      ],
      "text/plain": [
       "   target          id                          date      flag        user  \\\n",
       "0       0  1467811193  Mon Apr 06 22:19:57 PDT 2009  NO_QUERY      Karoli   \n",
       "1       0  1467811594  Mon Apr 06 22:20:03 PDT 2009  NO_QUERY        coZZ   \n",
       "2       0  1467813579  Mon Apr 06 22:20:31 PDT 2009  NO_QUERY  starkissed   \n",
       "3       0  1467818603  Mon Apr 06 22:21:49 PDT 2009  NO_QUERY   kennypham   \n",
       "4       0  1467819650  Mon Apr 06 22:22:05 PDT 2009  NO_QUERY   antzpantz   \n",
       "\n",
       "                                                text  \n",
       "0  @nationwideclass no, it's not behaving at all....  \n",
       "1  @LOLTrish hey  long time no see! Yes.. Rains a...  \n",
       "2  @LettyA ahh ive always wanted to see rent  lov...  \n",
       "3  Sad, sad, sad. I don't know why but I hate thi...  \n",
       "4  @Viennah Yay! I'm happy for you with your job!...  "
      ]
     },
     "execution_count": 61,
     "metadata": {},
     "output_type": "execute_result"
    }
   ],
   "source": [
    "df.head()"
   ]
  },
  {
   "cell_type": "code",
   "execution_count": 37,
   "metadata": {},
   "outputs": [
    {
     "data": {
      "text/html": [
       "<div>\n",
       "<style scoped>\n",
       "    .dataframe tbody tr th:only-of-type {\n",
       "        vertical-align: middle;\n",
       "    }\n",
       "\n",
       "    .dataframe tbody tr th {\n",
       "        vertical-align: top;\n",
       "    }\n",
       "\n",
       "    .dataframe thead th {\n",
       "        text-align: right;\n",
       "    }\n",
       "</style>\n",
       "<table border=\"1\" class=\"dataframe\">\n",
       "  <thead>\n",
       "    <tr style=\"text-align: right;\">\n",
       "      <th></th>\n",
       "      <th>user</th>\n",
       "      <th>number of tweets</th>\n",
       "    </tr>\n",
       "  </thead>\n",
       "  <tbody>\n",
       "    <tr>\n",
       "      <th>4129</th>\n",
       "      <td>lost_dog</td>\n",
       "      <td>549</td>\n",
       "    </tr>\n",
       "    <tr>\n",
       "      <th>5530</th>\n",
       "      <td>webwoke</td>\n",
       "      <td>345</td>\n",
       "    </tr>\n",
       "    <tr>\n",
       "      <th>5424</th>\n",
       "      <td>tweetpet</td>\n",
       "      <td>310</td>\n",
       "    </tr>\n",
       "    <tr>\n",
       "      <th>1767</th>\n",
       "      <td>SallytheShizzle</td>\n",
       "      <td>281</td>\n",
       "    </tr>\n",
       "    <tr>\n",
       "      <th>2204</th>\n",
       "      <td>VioletsCRUK</td>\n",
       "      <td>279</td>\n",
       "    </tr>\n",
       "  </tbody>\n",
       "</table>\n",
       "</div>"
      ],
      "text/plain": [
       "                 user  number of tweets\n",
       "4129         lost_dog               549\n",
       "5530          webwoke               345\n",
       "5424         tweetpet               310\n",
       "1767  SallytheShizzle               281\n",
       "2204      VioletsCRUK               279"
      ]
     },
     "execution_count": 37,
     "metadata": {},
     "output_type": "execute_result"
    }
   ],
   "source": [
    "# Finding out the top tweeters \n",
    "number_tweets_df = df.groupby('user').text.count().reset_index()\n",
    "number_tweets_df.columns = ['user', 'number of tweets']\n",
    "\n",
    "number_tweets_df.sort_values(by=['number of tweets'], ascending=False, inplace=True)\n",
    "number_tweets_df.head()"
   ]
  },
  {
   "cell_type": "code",
   "execution_count": 178,
   "metadata": {},
   "outputs": [],
   "source": [
    "# Remove mentions, emails and links\n",
    "def removeAt(tweet):\n",
    "    words = tweet.split(' ')\n",
    "    return ' '.join(filter(lambda x: x and '@' not in x, words))\n",
    "\n",
    "def removeLinks(tweet):\n",
    "    words = tweet.split(' ')\n",
    "    return ' '.join(filter(lambda x: not ('http://' in x.lower() or 'https://' in x.lower()), words))"
   ]
  },
  {
   "cell_type": "code",
   "execution_count": 179,
   "metadata": {},
   "outputs": [],
   "source": [
    "# Apply formulas \n",
    "df.text = df.text.apply(lambda x: removeAt(removeLinks(x.strip())))"
   ]
  },
  {
   "cell_type": "code",
   "execution_count": 188,
   "metadata": {},
   "outputs": [
    {
     "data": {
      "text/plain": [
       "array(['12gaBrowningGal', '15Stepz', '16_MileyCyrus', ..., 'zubinsaxena',\n",
       "       'zuppalizzle', 'zzzValzzz'], dtype=object)"
      ]
     },
     "execution_count": 188,
     "metadata": {},
     "output_type": "execute_result"
    }
   ],
   "source": [
    "# Array of users that we removed (due to duplicates)\n",
    "duplicated = df.duplicated(subset='text', keep=False)\n",
    "pd.unique(df['user'])"
   ]
  },
  {
   "cell_type": "code",
   "execution_count": 185,
   "metadata": {},
   "outputs": [
    {
     "data": {
      "text/html": [
       "<div>\n",
       "<style scoped>\n",
       "    .dataframe tbody tr th:only-of-type {\n",
       "        vertical-align: middle;\n",
       "    }\n",
       "\n",
       "    .dataframe tbody tr th {\n",
       "        vertical-align: top;\n",
       "    }\n",
       "\n",
       "    .dataframe thead th {\n",
       "        text-align: right;\n",
       "    }\n",
       "</style>\n",
       "<table border=\"1\" class=\"dataframe\">\n",
       "  <thead>\n",
       "    <tr style=\"text-align: right;\">\n",
       "      <th></th>\n",
       "      <th>target</th>\n",
       "      <th>id</th>\n",
       "      <th>date</th>\n",
       "      <th>flag</th>\n",
       "      <th>user</th>\n",
       "      <th>text</th>\n",
       "    </tr>\n",
       "  </thead>\n",
       "  <tbody>\n",
       "    <tr>\n",
       "      <th>14524</th>\n",
       "      <td>0</td>\n",
       "      <td>1835705341</td>\n",
       "      <td>Mon May 18 06:34:45 PDT 2009</td>\n",
       "      <td>NO_QUERY</td>\n",
       "      <td>12gaBrowningGal</td>\n",
       "      <td>Blind. Definitely. They aren't the smartest bi...</td>\n",
       "    </tr>\n",
       "    <tr>\n",
       "      <th>68041</th>\n",
       "      <td>0</td>\n",
       "      <td>2211076285</td>\n",
       "      <td>Wed Jun 17 12:24:07 PDT 2009</td>\n",
       "      <td>NO_QUERY</td>\n",
       "      <td>12gaBrowningGal</td>\n",
       "      <td>I'm killing me too! I'm hungry now- Pie, Outdo...</td>\n",
       "    </tr>\n",
       "    <tr>\n",
       "      <th>85046</th>\n",
       "      <td>0</td>\n",
       "      <td>2299986642</td>\n",
       "      <td>Tue Jun 23 13:35:33 PDT 2009</td>\n",
       "      <td>NO_QUERY</td>\n",
       "      <td>12gaBrowningGal</td>\n",
       "      <td>My skeet game bites! I am not joking. I will h...</td>\n",
       "    </tr>\n",
       "    <tr>\n",
       "      <th>203184</th>\n",
       "      <td>4</td>\n",
       "      <td>2071364168</td>\n",
       "      <td>Sun Jun 07 19:16:31 PDT 2009</td>\n",
       "      <td>NO_QUERY</td>\n",
       "      <td>12gaBrowningGal</td>\n",
       "      <td>That's just because she trying to figure out w...</td>\n",
       "    </tr>\n",
       "    <tr>\n",
       "      <th>207475</th>\n",
       "      <td>4</td>\n",
       "      <td>2178187758</td>\n",
       "      <td>Mon Jun 15 07:19:40 PDT 2009</td>\n",
       "      <td>NO_QUERY</td>\n",
       "      <td>12gaBrowningGal</td>\n",
       "      <td>I am really not skilled enough to shoot trap. ...</td>\n",
       "    </tr>\n",
       "  </tbody>\n",
       "</table>\n",
       "</div>"
      ],
      "text/plain": [
       "        target          id                          date      flag  \\\n",
       "14524        0  1835705341  Mon May 18 06:34:45 PDT 2009  NO_QUERY   \n",
       "68041        0  2211076285  Wed Jun 17 12:24:07 PDT 2009  NO_QUERY   \n",
       "85046        0  2299986642  Tue Jun 23 13:35:33 PDT 2009  NO_QUERY   \n",
       "203184       4  2071364168  Sun Jun 07 19:16:31 PDT 2009  NO_QUERY   \n",
       "207475       4  2178187758  Mon Jun 15 07:19:40 PDT 2009  NO_QUERY   \n",
       "\n",
       "                   user                                               text  \n",
       "14524   12gaBrowningGal  Blind. Definitely. They aren't the smartest bi...  \n",
       "68041   12gaBrowningGal  I'm killing me too! I'm hungry now- Pie, Outdo...  \n",
       "85046   12gaBrowningGal  My skeet game bites! I am not joking. I will h...  \n",
       "203184  12gaBrowningGal  That's just because she trying to figure out w...  \n",
       "207475  12gaBrowningGal  I am really not skilled enough to shoot trap. ...  "
      ]
     },
     "execution_count": 185,
     "metadata": {},
     "output_type": "execute_result"
    }
   ],
   "source": [
    "# Cleaned dataframe \n",
    "df.drop_duplicates(subset='text', keep=False, inplace=True)\n",
    "\n",
    "# sort dataframe by user \n",
    "df.sort_values(by='user', inplace=True)\n",
    "df.head()"
   ]
  },
  {
   "cell_type": "code",
   "execution_count": 186,
   "metadata": {},
   "outputs": [],
   "source": [
    "# Create a dictionary consolidating users and tweets to send to LIWC \n",
    "user_list = df['user'].tolist()\n",
    "tweets_list = df['text'].tolist()\n",
    "\n",
    "user_tweet_dic = {}\n",
    "\n",
    "for i in range(len(user_list)):\n",
    "    user = user_list[i]\n",
    "    tweet = tweets_list[i]\n",
    "    \n",
    "    if user not in user_tweet_dic:\n",
    "        user_tweet_dic[user] = []\n",
    "        user_tweet_dic[user].append(tweet)\n",
    "    else:\n",
    "        user_tweet_dic[user].append(tweet)\n",
    "        \n",
    "new_user_list = []\n",
    "new_combined_tweets_list = []\n",
    "\n",
    "for user, tweets in user_tweet_dic.items():\n",
    "    combined_tweets = ' '.join(tweets)\n",
    "    new_user_list.append(user)\n",
    "    new_combined_tweets_list.append(combined_tweets)\n",
    "    \n",
    "consolidated_tweets_df = pd.DataFrame({'user': new_user_list, 'tweets': new_combined_tweets_list})\n",
    "consolidated_tweets_df_sorted.to_csv('consolidated_tweets_df_sorted.csv')"
   ]
  },
  {
   "cell_type": "code",
   "execution_count": 193,
   "metadata": {},
   "outputs": [],
   "source": [
    "# Creating a dataframe for the first 500 users \n",
    "first_500_users = df['user'].unique()[:500]\n",
    "first_500_users_df = df[df['user'].isin(first_500_users)]\n",
    "\n",
    "# Creating a dictionary of user and their tweets \n",
    "user_tweet_dictionary = {}\n",
    "\n",
    "# Create a format that follows IBM Watson's format and saving it to the user_tweet_dictionary\n",
    "for index, row in first_500_users_df.iterrows():\n",
    "    user = row['user']\n",
    "    text = row['text']\n",
    "    \n",
    "    tweet = {}\n",
    "    \n",
    "    tweet['content'] = text\n",
    "    tweet['contenttype'] = 'text/plain'\n",
    "    tweet['language'] = 'en'\n",
    "    \n",
    "    if user not in user_tweet_dictionary:\n",
    "        user_tweet_dictionary[user] = {'contentItems': []}\n",
    "        user_tweet_dictionary[user]['contentItems'].append(tweet)\n",
    "    else:\n",
    "        user_tweet_dictionary[user]['contentItems'].append(tweet)"
   ]
  },
  {
   "cell_type": "code",
   "execution_count": 194,
   "metadata": {},
   "outputs": [],
   "source": [
    "import json\n",
    "from ibm_watson import PersonalityInsightsV3\n",
    "from ibm_cloud_sdk_core.authenticators import IAMAuthenticator\n",
    "\n",
    "#API KEY provided on the service page \n",
    "KEY = 'STximBrq6oOabT5yZteafZcbt3m6Xh6SUSVuWr3RW3V6'\n",
    "\n",
    "# Authentication via IBM's IAM (Identity and Access Management)\n",
    "authenticator = IAMAuthenticator(KEY)\n",
    "\n",
    "# Creating a service instance\n",
    "service = PersonalityInsightsV3(\n",
    "    version='2017-10-13',\n",
    "    authenticator=authenticator)\n",
    "\n",
    "# Setting service endpoint \n",
    "service.set_service_url('https://gateway.watsonplatform.net/personality-insights/api')"
   ]
  },
  {
   "cell_type": "code",
   "execution_count": 195,
   "metadata": {},
   "outputs": [
    {
     "name": "stderr",
     "output_type": "stream",
     "text": [
      "ERROR:root:The number of words 47 is less than the minimum number of words required for analysis: 100\n",
      "Traceback (most recent call last):\n",
      "  File \"C:\\Users\\steve\\Anaconda3\\lib\\site-packages\\ibm_cloud_sdk_core\\base_service.py\", line 157, in send\n",
      "    response.status_code, error_message, http_response=response)\n",
      "ibm_cloud_sdk_core.api_exception.ApiException: Error: The number of words 47 is less than the minimum number of words required for analysis: 100, Code: 400 , X-global-transaction-id: 1d5a8bd48e7e21b5cf172bfa91dec5b7\n"
     ]
    },
    {
     "ename": "ApiException",
     "evalue": "Error: The number of words 47 is less than the minimum number of words required for analysis: 100, Code: 400 , X-global-transaction-id: 1d5a8bd48e7e21b5cf172bfa91dec5b7",
     "output_type": "error",
     "traceback": [
      "\u001b[1;31m---------------------------------------------------------------------------\u001b[0m",
      "\u001b[1;31mApiException\u001b[0m                              Traceback (most recent call last)",
      "\u001b[1;32m<ipython-input-195-73724439a142>\u001b[0m in \u001b[0;36m<module>\u001b[1;34m\u001b[0m\n\u001b[0;32m      9\u001b[0m \u001b[1;31m# creates profiles of users in user_tweet_dictionary and saves them to results\u001b[0m\u001b[1;33m\u001b[0m\u001b[1;33m\u001b[0m\u001b[1;33m\u001b[0m\u001b[0m\n\u001b[0;32m     10\u001b[0m \u001b[1;32mfor\u001b[0m \u001b[0muser\u001b[0m\u001b[1;33m,\u001b[0m \u001b[0mtweets\u001b[0m \u001b[1;32min\u001b[0m \u001b[0muser_tweet_dictionary\u001b[0m\u001b[1;33m.\u001b[0m\u001b[0mitems\u001b[0m\u001b[1;33m(\u001b[0m\u001b[1;33m)\u001b[0m\u001b[1;33m:\u001b[0m\u001b[1;33m\u001b[0m\u001b[1;33m\u001b[0m\u001b[0m\n\u001b[1;32m---> 11\u001b[1;33m     \u001b[0mprofile\u001b[0m \u001b[1;33m=\u001b[0m \u001b[0mservice\u001b[0m\u001b[1;33m.\u001b[0m\u001b[0mprofile\u001b[0m\u001b[1;33m(\u001b[0m\u001b[0mtweets\u001b[0m\u001b[1;33m,\u001b[0m \u001b[1;34m'application/json'\u001b[0m\u001b[1;33m,\u001b[0m \u001b[0mraw_scores\u001b[0m\u001b[1;33m=\u001b[0m\u001b[1;32mTrue\u001b[0m\u001b[1;33m,\u001b[0m \u001b[0mconsumption_preferences\u001b[0m\u001b[1;33m=\u001b[0m\u001b[1;32mTrue\u001b[0m\u001b[1;33m)\u001b[0m\u001b[1;33m.\u001b[0m\u001b[0mget_result\u001b[0m\u001b[1;33m(\u001b[0m\u001b[1;33m)\u001b[0m\u001b[1;33m\u001b[0m\u001b[1;33m\u001b[0m\u001b[0m\n\u001b[0m\u001b[0;32m     12\u001b[0m \u001b[1;33m\u001b[0m\u001b[0m\n\u001b[0;32m     13\u001b[0m     \u001b[0mresults\u001b[0m\u001b[1;33m[\u001b[0m\u001b[1;34m'User'\u001b[0m\u001b[1;33m]\u001b[0m\u001b[1;33m.\u001b[0m\u001b[0mappend\u001b[0m\u001b[1;33m(\u001b[0m\u001b[0muser\u001b[0m\u001b[1;33m)\u001b[0m\u001b[1;33m\u001b[0m\u001b[1;33m\u001b[0m\u001b[0m\n",
      "\u001b[1;32m~\\Anaconda3\\lib\\site-packages\\ibm_watson\\personality_insights_v3.py\u001b[0m in \u001b[0;36mprofile\u001b[1;34m(self, content, accept, content_type, content_language, accept_language, raw_scores, csv_headers, consumption_preferences, **kwargs)\u001b[0m\n\u001b[0;32m    224\u001b[0m             \u001b[0mdata\u001b[0m\u001b[1;33m=\u001b[0m\u001b[0mdata\u001b[0m\u001b[1;33m,\u001b[0m\u001b[1;33m\u001b[0m\u001b[1;33m\u001b[0m\u001b[0m\n\u001b[0;32m    225\u001b[0m             accept_json=(accept is None or accept == 'application/json'))\n\u001b[1;32m--> 226\u001b[1;33m         \u001b[0mresponse\u001b[0m \u001b[1;33m=\u001b[0m \u001b[0mself\u001b[0m\u001b[1;33m.\u001b[0m\u001b[0msend\u001b[0m\u001b[1;33m(\u001b[0m\u001b[0mrequest\u001b[0m\u001b[1;33m)\u001b[0m\u001b[1;33m\u001b[0m\u001b[1;33m\u001b[0m\u001b[0m\n\u001b[0m\u001b[0;32m    227\u001b[0m         \u001b[1;32mreturn\u001b[0m \u001b[0mresponse\u001b[0m\u001b[1;33m\u001b[0m\u001b[1;33m\u001b[0m\u001b[0m\n\u001b[0;32m    228\u001b[0m \u001b[1;33m\u001b[0m\u001b[0m\n",
      "\u001b[1;32m~\\Anaconda3\\lib\\site-packages\\ibm_cloud_sdk_core\\base_service.py\u001b[0m in \u001b[0;36msend\u001b[1;34m(self, request, **kwargs)\u001b[0m\n\u001b[0;32m    155\u001b[0m                                     \u001b[1;34m'invalid credentials'\u001b[0m\u001b[1;33m\u001b[0m\u001b[1;33m\u001b[0m\u001b[0m\n\u001b[0;32m    156\u001b[0m                 raise ApiException(\n\u001b[1;32m--> 157\u001b[1;33m                     response.status_code, error_message, http_response=response)\n\u001b[0m\u001b[0;32m    158\u001b[0m         \u001b[1;32mexcept\u001b[0m \u001b[0mrequests\u001b[0m\u001b[1;33m.\u001b[0m\u001b[0mexceptions\u001b[0m\u001b[1;33m.\u001b[0m\u001b[0mSSLError\u001b[0m\u001b[1;33m:\u001b[0m\u001b[1;33m\u001b[0m\u001b[1;33m\u001b[0m\u001b[0m\n\u001b[0;32m    159\u001b[0m             \u001b[0mlogging\u001b[0m\u001b[1;33m.\u001b[0m\u001b[0mexception\u001b[0m\u001b[1;33m(\u001b[0m\u001b[0mself\u001b[0m\u001b[1;33m.\u001b[0m\u001b[0mERROR_MSG_DISABLE_SSL\u001b[0m\u001b[1;33m)\u001b[0m\u001b[1;33m\u001b[0m\u001b[1;33m\u001b[0m\u001b[0m\n",
      "\u001b[1;31mApiException\u001b[0m: Error: The number of words 47 is less than the minimum number of words required for analysis: 100, Code: 400 , X-global-transaction-id: 1d5a8bd48e7e21b5cf172bfa91dec5b7"
     ]
    }
   ],
   "source": [
    "# Creating a dictionary to store results from IBM Watson\n",
    "results = {'User': [],\n",
    "          'Openness': [],\n",
    "          'Conscientiousness': [],\n",
    "          'Extraversion': [],\n",
    "          'Agreeableness': [],\n",
    "          'Emotional range': []}\n",
    "\n",
    "# creates profiles of users in user_tweet_dictionary and saves them to results\n",
    "for user, tweets in user_tweet_dictionary.items():\n",
    "    profile = service.profile(tweets, 'application/json', raw_scores=True, consumption_preferences=True).get_result()\n",
    "    \n",
    "    results['User'].append(user)\n",
    "    results['Openness'].append(profile['personality'][0]['raw_score'])\n",
    "    results['Conscientiousness'].append(profile['personality'][1]['raw_score'])\n",
    "    results['Extraversion'].append(profile['personality'][2]['raw_score'])\n",
    "    results['Agreeableness'].append(profile['personality'][3]['raw_score'])\n",
    "    results['Emotional range'].append(profile['personality'][4]['raw_score'])"
   ]
  },
  {
   "cell_type": "code",
   "execution_count": null,
   "metadata": {},
   "outputs": [],
   "source": [
    "# Create a dataframe from results dictionary\n",
    "big5_df = pd.DataFrame(results)\n",
    "big5_df.head()"
   ]
  }
 ],
 "metadata": {
  "kernelspec": {
   "display_name": "Python 3",
   "language": "python",
   "name": "python3"
  },
  "language_info": {
   "codemirror_mode": {
    "name": "ipython",
    "version": 3
   },
   "file_extension": ".py",
   "mimetype": "text/x-python",
   "name": "python",
   "nbconvert_exporter": "python",
   "pygments_lexer": "ipython3",
   "version": "3.7.3"
  }
 },
 "nbformat": 4,
 "nbformat_minor": 2
}
