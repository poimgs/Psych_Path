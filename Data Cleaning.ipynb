{
 "cells": [
  {
   "cell_type": "code",
   "execution_count": 102,
   "metadata": {},
   "outputs": [
    {
     "data": {
      "text/html": [
       "<div>\n",
       "<style scoped>\n",
       "    .dataframe tbody tr th:only-of-type {\n",
       "        vertical-align: middle;\n",
       "    }\n",
       "\n",
       "    .dataframe tbody tr th {\n",
       "        vertical-align: top;\n",
       "    }\n",
       "\n",
       "    .dataframe thead th {\n",
       "        text-align: right;\n",
       "    }\n",
       "</style>\n",
       "<table border=\"1\" class=\"dataframe\">\n",
       "  <thead>\n",
       "    <tr style=\"text-align: right;\">\n",
       "      <th></th>\n",
       "      <th>Unnamed: 0</th>\n",
       "      <th>target</th>\n",
       "      <th>id</th>\n",
       "      <th>date</th>\n",
       "      <th>flag</th>\n",
       "      <th>user</th>\n",
       "      <th>text</th>\n",
       "    </tr>\n",
       "  </thead>\n",
       "  <tbody>\n",
       "    <tr>\n",
       "      <th>0</th>\n",
       "      <td>4</td>\n",
       "      <td>0</td>\n",
       "      <td>1467811193</td>\n",
       "      <td>Mon Apr 06 22:19:57 PDT 2009</td>\n",
       "      <td>NO_QUERY</td>\n",
       "      <td>Karoli</td>\n",
       "      <td>@nationwideclass no, it's not behaving at all....</td>\n",
       "    </tr>\n",
       "    <tr>\n",
       "      <th>1</th>\n",
       "      <td>7</td>\n",
       "      <td>0</td>\n",
       "      <td>1467811594</td>\n",
       "      <td>Mon Apr 06 22:20:03 PDT 2009</td>\n",
       "      <td>NO_QUERY</td>\n",
       "      <td>coZZ</td>\n",
       "      <td>@LOLTrish hey  long time no see! Yes.. Rains a...</td>\n",
       "    </tr>\n",
       "    <tr>\n",
       "      <th>2</th>\n",
       "      <td>18</td>\n",
       "      <td>0</td>\n",
       "      <td>1467813579</td>\n",
       "      <td>Mon Apr 06 22:20:31 PDT 2009</td>\n",
       "      <td>NO_QUERY</td>\n",
       "      <td>starkissed</td>\n",
       "      <td>@LettyA ahh ive always wanted to see rent  lov...</td>\n",
       "    </tr>\n",
       "    <tr>\n",
       "      <th>3</th>\n",
       "      <td>42</td>\n",
       "      <td>0</td>\n",
       "      <td>1467818603</td>\n",
       "      <td>Mon Apr 06 22:21:49 PDT 2009</td>\n",
       "      <td>NO_QUERY</td>\n",
       "      <td>kennypham</td>\n",
       "      <td>Sad, sad, sad. I don't know why but I hate thi...</td>\n",
       "    </tr>\n",
       "    <tr>\n",
       "      <th>4</th>\n",
       "      <td>45</td>\n",
       "      <td>0</td>\n",
       "      <td>1467819650</td>\n",
       "      <td>Mon Apr 06 22:22:05 PDT 2009</td>\n",
       "      <td>NO_QUERY</td>\n",
       "      <td>antzpantz</td>\n",
       "      <td>@Viennah Yay! I'm happy for you with your job!...</td>\n",
       "    </tr>\n",
       "  </tbody>\n",
       "</table>\n",
       "</div>"
      ],
      "text/plain": [
       "   Unnamed: 0  target          id                          date      flag  \\\n",
       "0           4       0  1467811193  Mon Apr 06 22:19:57 PDT 2009  NO_QUERY   \n",
       "1           7       0  1467811594  Mon Apr 06 22:20:03 PDT 2009  NO_QUERY   \n",
       "2          18       0  1467813579  Mon Apr 06 22:20:31 PDT 2009  NO_QUERY   \n",
       "3          42       0  1467818603  Mon Apr 06 22:21:49 PDT 2009  NO_QUERY   \n",
       "4          45       0  1467819650  Mon Apr 06 22:22:05 PDT 2009  NO_QUERY   \n",
       "\n",
       "         user                                               text  \n",
       "0      Karoli  @nationwideclass no, it's not behaving at all....  \n",
       "1        coZZ  @LOLTrish hey  long time no see! Yes.. Rains a...  \n",
       "2  starkissed  @LettyA ahh ive always wanted to see rent  lov...  \n",
       "3   kennypham  Sad, sad, sad. I don't know why but I hate thi...  \n",
       "4   antzpantz  @Viennah Yay! I'm happy for you with your job!...  "
      ]
     },
     "execution_count": 102,
     "metadata": {},
     "output_type": "execute_result"
    }
   ],
   "source": [
    "import pandas as pd\n",
    "df = pd.read_csv('filtered_tweets.csv')\n",
    "df.head()"
   ]
  },
  {
   "cell_type": "code",
   "execution_count": 103,
   "metadata": {},
   "outputs": [],
   "source": [
    "def removeAt(tweet):\n",
    "    words = tweet.split(' ')\n",
    "    return ' '.join(filter(lambda x: x and '@' not in x, words))\n",
    "\n",
    "def removeLinks(tweet):\n",
    "    words = tweet.split(' ')\n",
    "    return ' '.join(filter(lambda x: not ('http://' in x.lower() or 'https://' in x.lower()), words))"
   ]
  },
  {
   "cell_type": "code",
   "execution_count": 104,
   "metadata": {},
   "outputs": [],
   "source": [
    "df.text = df.text.apply(lambda x: removeAt(removeLinks(x.strip())))"
   ]
  },
  {
   "cell_type": "code",
   "execution_count": 99,
   "metadata": {},
   "outputs": [
    {
     "data": {
      "text/plain": [
       "array(['Karoli', 'coZZ', 'starkissed', ..., 'tweeteradder18',\n",
       "       'tweeteradder20', 'tweeteradder31'], dtype=object)"
      ]
     },
     "execution_count": 99,
     "metadata": {},
     "output_type": "execute_result"
    }
   ],
   "source": [
    "duplicated = df.duplicated(subset='text', keep=False)\n",
    "pd.unique(df['user'])"
   ]
  },
  {
   "cell_type": "code",
   "execution_count": 105,
   "metadata": {},
   "outputs": [],
   "source": [
    "df.drop_duplicates(subset='text', keep=False, inplace=True)"
   ]
  },
  {
   "cell_type": "code",
   "execution_count": 71,
   "metadata": {},
   "outputs": [
    {
     "data": {
      "text/html": [
       "<div>\n",
       "<style scoped>\n",
       "    .dataframe tbody tr th:only-of-type {\n",
       "        vertical-align: middle;\n",
       "    }\n",
       "\n",
       "    .dataframe tbody tr th {\n",
       "        vertical-align: top;\n",
       "    }\n",
       "\n",
       "    .dataframe thead th {\n",
       "        text-align: right;\n",
       "    }\n",
       "</style>\n",
       "<table border=\"1\" class=\"dataframe\">\n",
       "  <thead>\n",
       "    <tr style=\"text-align: right;\">\n",
       "      <th></th>\n",
       "      <th>Unnamed: 0</th>\n",
       "      <th>target</th>\n",
       "      <th>id</th>\n",
       "      <th>date</th>\n",
       "      <th>flag</th>\n",
       "      <th>user</th>\n",
       "      <th>text</th>\n",
       "    </tr>\n",
       "  </thead>\n",
       "  <tbody>\n",
       "    <tr>\n",
       "      <th>8933</th>\n",
       "      <td>86691</td>\n",
       "      <td>0</td>\n",
       "      <td>1754199617</td>\n",
       "      <td>Sun May 10 05:23:09 PDT 2009</td>\n",
       "      <td>NO_QUERY</td>\n",
       "      <td>WallTweet</td>\n",
       "      <td>I couldn't buy any 'Happy Mothers Day' for you...</td>\n",
       "    </tr>\n",
       "    <tr>\n",
       "      <th>47477</th>\n",
       "      <td>387036</td>\n",
       "      <td>0</td>\n",
       "      <td>2053918152</td>\n",
       "      <td>Sat Jun 06 06:04:41 PDT 2009</td>\n",
       "      <td>NO_QUERY</td>\n",
       "      <td>thalovebug</td>\n",
       "      <td>NEKO DON'T LEAVE US 3 i love you with a millio...</td>\n",
       "    </tr>\n",
       "    <tr>\n",
       "      <th>97947</th>\n",
       "      <td>875636</td>\n",
       "      <td>4</td>\n",
       "      <td>1680812852</td>\n",
       "      <td>Sat May 02 12:33:16 PDT 2009</td>\n",
       "      <td>NO_QUERY</td>\n",
       "      <td>SexyCostumes4U</td>\n",
       "      <td>I ment to say, you are right on about that,</td>\n",
       "    </tr>\n",
       "    <tr>\n",
       "      <th>101399</th>\n",
       "      <td>898100</td>\n",
       "      <td>4</td>\n",
       "      <td>1693511589</td>\n",
       "      <td>Sun May 03 22:47:25 PDT 2009</td>\n",
       "      <td>NO_QUERY</td>\n",
       "      <td>KevinEdwardsJr</td>\n",
       "      <td>love yall ...my 2 homiessss</td>\n",
       "    </tr>\n",
       "    <tr>\n",
       "      <th>112127</th>\n",
       "      <td>964330</td>\n",
       "      <td>4</td>\n",
       "      <td>1827517189</td>\n",
       "      <td>Sun May 17 10:52:43 PDT 2009</td>\n",
       "      <td>NO_QUERY</td>\n",
       "      <td>PaoloAlonso</td>\n",
       "      <td>Jamie Lynn! welcome to twitterland! hope you a...</td>\n",
       "    </tr>\n",
       "  </tbody>\n",
       "</table>\n",
       "</div>"
      ],
      "text/plain": [
       "        Unnamed: 0  target          id                          date  \\\n",
       "8933         86691       0  1754199617  Sun May 10 05:23:09 PDT 2009   \n",
       "47477       387036       0  2053918152  Sat Jun 06 06:04:41 PDT 2009   \n",
       "97947       875636       4  1680812852  Sat May 02 12:33:16 PDT 2009   \n",
       "101399      898100       4  1693511589  Sun May 03 22:47:25 PDT 2009   \n",
       "112127      964330       4  1827517189  Sun May 17 10:52:43 PDT 2009   \n",
       "\n",
       "            flag            user  \\\n",
       "8933    NO_QUERY       WallTweet   \n",
       "47477   NO_QUERY      thalovebug   \n",
       "97947   NO_QUERY  SexyCostumes4U   \n",
       "101399  NO_QUERY  KevinEdwardsJr   \n",
       "112127  NO_QUERY     PaoloAlonso   \n",
       "\n",
       "                                                     text  \n",
       "8933    I couldn't buy any 'Happy Mothers Day' for you...  \n",
       "47477   NEKO DON'T LEAVE US 3 i love you with a millio...  \n",
       "97947         I ment to say, you are right on about that,  \n",
       "101399                        love yall ...my 2 homiessss  \n",
       "112127  Jamie Lynn! welcome to twitterland! hope you a...  "
      ]
     },
     "execution_count": 71,
     "metadata": {},
     "output_type": "execute_result"
    }
   ],
   "source": [
    "df"
   ]
  },
  {
   "cell_type": "code",
   "execution_count": null,
   "metadata": {},
   "outputs": [],
   "source": []
  },
  {
   "cell_type": "code",
   "execution_count": 107,
   "metadata": {},
   "outputs": [],
   "source": [
    "export_csv = df.to_csv (r'cleanedData.csv', index = None, header=True) "
   ]
  }
 ],
 "metadata": {
  "kernelspec": {
   "display_name": "Python 3",
   "language": "python",
   "name": "python3"
  },
  "language_info": {
   "codemirror_mode": {
    "name": "ipython",
    "version": 3
   },
   "file_extension": ".py",
   "mimetype": "text/x-python",
   "name": "python",
   "nbconvert_exporter": "python",
   "pygments_lexer": "ipython3",
   "version": "3.7.3"
  }
 },
 "nbformat": 4,
 "nbformat_minor": 2
}
