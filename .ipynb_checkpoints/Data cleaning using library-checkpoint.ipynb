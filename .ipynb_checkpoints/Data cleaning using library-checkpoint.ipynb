{
 "cells": [
  {
   "cell_type": "code",
   "execution_count": 38,
   "metadata": {},
   "outputs": [],
   "source": [
    "import pandas as pd\n",
    "import preprocessor as p"
   ]
  },
  {
   "cell_type": "code",
   "execution_count": 39,
   "metadata": {},
   "outputs": [],
   "source": [
    "# reading data in csv file using pandas\n",
    "df = pd.read_csv('filtered_tweets.csv')"
   ]
  },
  {
   "cell_type": "code",
   "execution_count": 40,
   "metadata": {},
   "outputs": [
    {
     "data": {
      "text/html": [
       "<div>\n",
       "<style scoped>\n",
       "    .dataframe tbody tr th:only-of-type {\n",
       "        vertical-align: middle;\n",
       "    }\n",
       "\n",
       "    .dataframe tbody tr th {\n",
       "        vertical-align: top;\n",
       "    }\n",
       "\n",
       "    .dataframe thead th {\n",
       "        text-align: right;\n",
       "    }\n",
       "</style>\n",
       "<table border=\"1\" class=\"dataframe\">\n",
       "  <thead>\n",
       "    <tr style=\"text-align: right;\">\n",
       "      <th></th>\n",
       "      <th>target</th>\n",
       "      <th>id</th>\n",
       "      <th>date</th>\n",
       "      <th>flag</th>\n",
       "      <th>user</th>\n",
       "      <th>text</th>\n",
       "    </tr>\n",
       "  </thead>\n",
       "  <tbody>\n",
       "    <tr>\n",
       "      <th>0</th>\n",
       "      <td>0</td>\n",
       "      <td>1467811193</td>\n",
       "      <td>Mon Apr 06 22:19:57 PDT 2009</td>\n",
       "      <td>NO_QUERY</td>\n",
       "      <td>Karoli</td>\n",
       "      <td>@nationwideclass no, it's not behaving at all....</td>\n",
       "    </tr>\n",
       "    <tr>\n",
       "      <th>1</th>\n",
       "      <td>0</td>\n",
       "      <td>1467811594</td>\n",
       "      <td>Mon Apr 06 22:20:03 PDT 2009</td>\n",
       "      <td>NO_QUERY</td>\n",
       "      <td>coZZ</td>\n",
       "      <td>@LOLTrish hey  long time no see! Yes.. Rains a...</td>\n",
       "    </tr>\n",
       "    <tr>\n",
       "      <th>2</th>\n",
       "      <td>0</td>\n",
       "      <td>1467813579</td>\n",
       "      <td>Mon Apr 06 22:20:31 PDT 2009</td>\n",
       "      <td>NO_QUERY</td>\n",
       "      <td>starkissed</td>\n",
       "      <td>@LettyA ahh ive always wanted to see rent  lov...</td>\n",
       "    </tr>\n",
       "    <tr>\n",
       "      <th>3</th>\n",
       "      <td>0</td>\n",
       "      <td>1467818603</td>\n",
       "      <td>Mon Apr 06 22:21:49 PDT 2009</td>\n",
       "      <td>NO_QUERY</td>\n",
       "      <td>kennypham</td>\n",
       "      <td>Sad, sad, sad. I don't know why but I hate thi...</td>\n",
       "    </tr>\n",
       "    <tr>\n",
       "      <th>4</th>\n",
       "      <td>0</td>\n",
       "      <td>1467819650</td>\n",
       "      <td>Mon Apr 06 22:22:05 PDT 2009</td>\n",
       "      <td>NO_QUERY</td>\n",
       "      <td>antzpantz</td>\n",
       "      <td>@Viennah Yay! I'm happy for you with your job!...</td>\n",
       "    </tr>\n",
       "  </tbody>\n",
       "</table>\n",
       "</div>"
      ],
      "text/plain": [
       "   target          id                          date      flag        user  \\\n",
       "0       0  1467811193  Mon Apr 06 22:19:57 PDT 2009  NO_QUERY      Karoli   \n",
       "1       0  1467811594  Mon Apr 06 22:20:03 PDT 2009  NO_QUERY        coZZ   \n",
       "2       0  1467813579  Mon Apr 06 22:20:31 PDT 2009  NO_QUERY  starkissed   \n",
       "3       0  1467818603  Mon Apr 06 22:21:49 PDT 2009  NO_QUERY   kennypham   \n",
       "4       0  1467819650  Mon Apr 06 22:22:05 PDT 2009  NO_QUERY   antzpantz   \n",
       "\n",
       "                                                text  \n",
       "0  @nationwideclass no, it's not behaving at all....  \n",
       "1  @LOLTrish hey  long time no see! Yes.. Rains a...  \n",
       "2  @LettyA ahh ive always wanted to see rent  lov...  \n",
       "3  Sad, sad, sad. I don't know why but I hate thi...  \n",
       "4  @Viennah Yay! I'm happy for you with your job!...  "
      ]
     },
     "execution_count": 40,
     "metadata": {},
     "output_type": "execute_result"
    }
   ],
   "source": [
    "df.head()"
   ]
  },
  {
   "cell_type": "code",
   "execution_count": 41,
   "metadata": {},
   "outputs": [],
   "source": [
    "# remove URSLs, hashtags, mentions, emojis and smileys\n",
    "df['text'] = df['text'].apply(lambda text: p.clean(text))"
   ]
  },
  {
   "cell_type": "code",
   "execution_count": 42,
   "metadata": {},
   "outputs": [],
   "source": [
    "# remove users with total characters of less than 100 characters\n",
    "df['characters'] = df['text'].apply(lambda text: len(text.split(' ')))\n",
    "aggregated_df = df.groupby('user').sum().reset_index()\n",
    "filtered_users = list(aggregated_df[aggregated_df['characters'] >= 100]['user'])\n",
    "\n",
    "df = df[df['user'].isin(filtered_users)].drop(columns=['characters'])"
   ]
  },
  {
   "cell_type": "code",
   "execution_count": 43,
   "metadata": {},
   "outputs": [],
   "source": [
    "# remove bots (users with less than 5 unique responses)\n",
    "aggregated_df2 = df.groupby('user').nunique().drop(columns=['user']).reset_index()\n",
    "NOT_bots_list = list(aggregated_df2[aggregated_df2['text'] > 5]['user'])\n",
    "df = df[df['user'].isin(NOT_bots_list)]"
   ]
  },
  {
   "cell_type": "code",
   "execution_count": 44,
   "metadata": {},
   "outputs": [
    {
     "data": {
      "text/html": [
       "<div>\n",
       "<style scoped>\n",
       "    .dataframe tbody tr th:only-of-type {\n",
       "        vertical-align: middle;\n",
       "    }\n",
       "\n",
       "    .dataframe tbody tr th {\n",
       "        vertical-align: top;\n",
       "    }\n",
       "\n",
       "    .dataframe thead th {\n",
       "        text-align: right;\n",
       "    }\n",
       "</style>\n",
       "<table border=\"1\" class=\"dataframe\">\n",
       "  <thead>\n",
       "    <tr style=\"text-align: right;\">\n",
       "      <th></th>\n",
       "      <th>target</th>\n",
       "      <th>id</th>\n",
       "      <th>date</th>\n",
       "      <th>flag</th>\n",
       "      <th>user</th>\n",
       "      <th>text</th>\n",
       "    </tr>\n",
       "  </thead>\n",
       "  <tbody>\n",
       "    <tr>\n",
       "      <th>0</th>\n",
       "      <td>0</td>\n",
       "      <td>1467811193</td>\n",
       "      <td>Mon Apr 06 22:19:57 PDT 2009</td>\n",
       "      <td>NO_QUERY</td>\n",
       "      <td>Karoli</td>\n",
       "      <td>no, it's not behaving at all. i'm mad. why am ...</td>\n",
       "    </tr>\n",
       "    <tr>\n",
       "      <th>1</th>\n",
       "      <td>0</td>\n",
       "      <td>1467811594</td>\n",
       "      <td>Mon Apr 06 22:20:03 PDT 2009</td>\n",
       "      <td>NO_QUERY</td>\n",
       "      <td>coZZ</td>\n",
       "      <td>hey long time no see! Yes.. Rains a bit ,only ...</td>\n",
       "    </tr>\n",
       "    <tr>\n",
       "      <th>2</th>\n",
       "      <td>0</td>\n",
       "      <td>1467813579</td>\n",
       "      <td>Mon Apr 06 22:20:31 PDT 2009</td>\n",
       "      <td>NO_QUERY</td>\n",
       "      <td>starkissed</td>\n",
       "      <td>ahh ive always wanted to see rent love the sou...</td>\n",
       "    </tr>\n",
       "    <tr>\n",
       "      <th>3</th>\n",
       "      <td>0</td>\n",
       "      <td>1467818603</td>\n",
       "      <td>Mon Apr 06 22:21:49 PDT 2009</td>\n",
       "      <td>NO_QUERY</td>\n",
       "      <td>kennypham</td>\n",
       "      <td>Sad, sad, sad. I don't know why but I hate thi...</td>\n",
       "    </tr>\n",
       "    <tr>\n",
       "      <th>4</th>\n",
       "      <td>0</td>\n",
       "      <td>1467819650</td>\n",
       "      <td>Mon Apr 06 22:22:05 PDT 2009</td>\n",
       "      <td>NO_QUERY</td>\n",
       "      <td>antzpantz</td>\n",
       "      <td>Yay! I'm happy for you with your job! But that...</td>\n",
       "    </tr>\n",
       "  </tbody>\n",
       "</table>\n",
       "</div>"
      ],
      "text/plain": [
       "   target          id                          date      flag        user  \\\n",
       "0       0  1467811193  Mon Apr 06 22:19:57 PDT 2009  NO_QUERY      Karoli   \n",
       "1       0  1467811594  Mon Apr 06 22:20:03 PDT 2009  NO_QUERY        coZZ   \n",
       "2       0  1467813579  Mon Apr 06 22:20:31 PDT 2009  NO_QUERY  starkissed   \n",
       "3       0  1467818603  Mon Apr 06 22:21:49 PDT 2009  NO_QUERY   kennypham   \n",
       "4       0  1467819650  Mon Apr 06 22:22:05 PDT 2009  NO_QUERY   antzpantz   \n",
       "\n",
       "                                                text  \n",
       "0  no, it's not behaving at all. i'm mad. why am ...  \n",
       "1  hey long time no see! Yes.. Rains a bit ,only ...  \n",
       "2  ahh ive always wanted to see rent love the sou...  \n",
       "3  Sad, sad, sad. I don't know why but I hate thi...  \n",
       "4  Yay! I'm happy for you with your job! But that...  "
      ]
     },
     "execution_count": 44,
     "metadata": {},
     "output_type": "execute_result"
    }
   ],
   "source": [
    "df.head()"
   ]
  }
 ],
 "metadata": {
  "kernelspec": {
   "display_name": "Python 3",
   "language": "python",
   "name": "python3"
  },
  "language_info": {
   "codemirror_mode": {
    "name": "ipython",
    "version": 3
   },
   "file_extension": ".py",
   "mimetype": "text/x-python",
   "name": "python",
   "nbconvert_exporter": "python",
   "pygments_lexer": "ipython3",
   "version": "3.7.3"
  }
 },
 "nbformat": 4,
 "nbformat_minor": 2
}
