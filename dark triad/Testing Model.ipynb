{
 "cells": [
  {
   "cell_type": "code",
   "execution_count": 7,
   "metadata": {},
   "outputs": [],
   "source": [
    "import pandas as pd\n",
    "\n",
    "df_emo = pd.read_csv('features-emo', sep=' ')\n",
    "#df_image = pd.read_csv('features-image', sep=' ')\n",
    "df_liwc2015 = pd.read_csv('features-liwc2015', sep=' ')\n",
    "#df_profile1 = pd.read_csv('features-profile1', sep=' ')\n",
    "#df_profile2 = pd.read_csv('features-profile2', sep=' ')\n",
    "#df_shallow = pd.read_csv('features-shallow', sep=' ')\n",
    "#df_unigrams = pd.read_csv('features-unigrams', sep=' ')\n",
    "#df_w2v = pd.read_csv('features-w2v-200', sep=' ')\n",
    "\n",
    "df_outcomes = pd.read_csv('outcomes', sep=' ')"
   ]
  },
  {
   "cell_type": "code",
   "execution_count": 17,
   "metadata": {},
   "outputs": [
    {
     "data": {
      "text/plain": [
       "Index(['id', 'ACHIEVE', 'ADJ', 'ADVERB', 'AFFECT', 'AFFILIATION', 'ANGER',\n",
       "       'ANX', 'ARTICLE', 'ASSENT', 'AUXVERB', 'BIO', 'BODY', 'CAUSE',\n",
       "       'CERTAIN', 'COGPROC', 'COMPARE', 'CONJ', 'DEATH', 'DIFFER', 'DISCREP',\n",
       "       'DRIVES', 'FAMILY', 'FEEL', 'FEMALE', 'FILLER', 'FOCUSFUTURE',\n",
       "       'FOCUSPAST', 'FOCUSPRESENT', 'FRIEND', 'FUNCTION', 'HEALTH', 'HEAR',\n",
       "       'HOME', 'I', 'INFORMAL', 'INGEST', 'INSIGHT', 'INTERROG', 'IPRON',\n",
       "       'LEISURE', 'MALE', 'MONEY', 'MOTION', 'NEGATE', 'NEGEMO', 'NETSPEAK',\n",
       "       'NONFLU', 'NUMBER', 'PERCEPT', 'POSEMO', 'POWER', 'PPRON', 'PREP',\n",
       "       'PRONOUN', 'QUANT', 'RELATIV', 'RELIG', 'REWARD', 'RISK', 'SAD', 'SEE',\n",
       "       'SEXUAL', 'SHEHE', 'SOCIAL', 'SPACE', 'SWEAR', 'TENTAT', 'THEY', 'TIME',\n",
       "       'VERB', 'WE', 'WORK', 'YOU', 'Unnamed: 74'],\n",
       "      dtype='object')"
      ]
     },
     "execution_count": 17,
     "metadata": {},
     "output_type": "execute_result"
    }
   ],
   "source": [
    "df_liwc2015.columns"
   ]
  },
  {
   "cell_type": "code",
   "execution_count": 20,
   "metadata": {},
   "outputs": [
    {
     "ename": "NameError",
     "evalue": "name 'sixletter' is not defined",
     "output_type": "error",
     "traceback": [
      "\u001b[1;31m---------------------------------------------------------------------------\u001b[0m",
      "\u001b[1;31mNameError\u001b[0m                                 Traceback (most recent call last)",
      "\u001b[1;32m<ipython-input-20-e60cd9a342b2>\u001b[0m in \u001b[0;36m<module>\u001b[1;34m()\u001b[0m\n\u001b[0;32m     14\u001b[0m     \u001b[1;31m#Distancing (0.19) - six letter words, articles, past tense, and the inverse of first person singular pronouns, present tense and discrepancy words\u001b[0m\u001b[1;33m\u001b[0m\u001b[1;33m\u001b[0m\u001b[0m\n\u001b[0;32m     15\u001b[0m \u001b[1;33m\u001b[0m\u001b[0m\n\u001b[1;32m---> 16\u001b[1;33m \u001b[0mDistancing\u001b[0m \u001b[1;33m=\u001b[0m \u001b[1;33m(\u001b[0m\u001b[0msixletter\u001b[0m \u001b[1;33m+\u001b[0m \u001b[0marticles\u001b[0m \u001b[1;33m+\u001b[0m \u001b[0mpasttense\u001b[0m \u001b[1;33m+\u001b[0m \u001b[0mfirstperson\u001b[0m \u001b[1;33m+\u001b[0m \u001b[0mpresenttense\u001b[0m \u001b[1;33m+\u001b[0m \u001b[0mdiscrepancy\u001b[0m\u001b[1;33m)\u001b[0m\u001b[1;33m/\u001b[0m\u001b[1;36m6\u001b[0m \u001b[1;31m#average of 6 intermediate numbers\u001b[0m\u001b[1;33m\u001b[0m\u001b[0m\n\u001b[0m\u001b[0;32m     17\u001b[0m \u001b[1;33m\u001b[0m\u001b[0m\n\u001b[0;32m     18\u001b[0m     \u001b[1;31m#Readability (-0.32) - multiplying negative one by six letter words, adding words per sentence, subtracting the amount of words recognized by the LIWC dictionary, and adding three\u001b[0m\u001b[1;33m\u001b[0m\u001b[1;33m\u001b[0m\u001b[0m\n",
      "\u001b[1;31mNameError\u001b[0m: name 'sixletter' is not defined"
     ]
    }
   ],
   "source": [
    "\n",
    "#sixletter = \n",
    "articles = df_liwc2015.iloc[1]['ARTICLE']\n",
    "pasttense = df_liwc2015.iloc[1]['FOCUSPAST']\n",
    "presenttense = df_liwc2015.iloc[1]['FOCUSPRESENT']\n",
    "firstperson = 100 - df_liwc2015.iloc[1]['I']\n",
    "discrepancy = df_liwc2015.iloc[1]['DISCREP']\n",
    "\n",
    "#wps = \n",
    "#wordcount = \n",
    "\n",
    "\n",
    "    #features\n",
    "    #Distancing (0.19) - six letter words, articles, past tense, and the inverse of first person singular pronouns, present tense and discrepancy words\n",
    "    \n",
    "Distancing = (sixletter + articles + pasttense + firstperson + presenttense + discrepancy)/6 #average of 6 intermediate numbers\n",
    "    \n",
    "    #Readability (-0.32) - multiplying negative one by six letter words, adding words per sentence, subtracting the amount of words recognized by the LIWC dictionary, and adding three\n",
    "    #Readability = (-1 * sixletter) + wps - wordcount + 3\n",
    "    \n",
    "    #Swear (0.31) \n",
    "Swear = df_liwc2015.iloc[1]['SWEAR']\n",
    "    \n",
    "    #Anger (0.22)\n",
    "Anger = df_emo.iloc[1]['anger']"
   ]
  }
 ],
 "metadata": {
  "kernelspec": {
   "display_name": "Python 3",
   "language": "python",
   "name": "python3"
  },
  "language_info": {
   "codemirror_mode": {
    "name": "ipython",
    "version": 3
   },
   "file_extension": ".py",
   "mimetype": "text/x-python",
   "name": "python",
   "nbconvert_exporter": "python",
   "pygments_lexer": "ipython3",
   "version": "3.7.0"
  }
 },
 "nbformat": 4,
 "nbformat_minor": 2
}
